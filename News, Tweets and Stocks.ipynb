{
 "cells": [
  {
   "cell_type": "code",
   "execution_count": 1,
   "metadata": {},
   "outputs": [],
   "source": [
    "import pandas as pd \n",
    "import numpy as np\n",
    "import pickle "
   ]
  },
  {
   "cell_type": "code",
   "execution_count": 118,
   "metadata": {},
   "outputs": [],
   "source": [
    "import matplotlib.pyplot as plt\n",
    "import seaborn as sns"
   ]
  },
  {
   "cell_type": "code",
   "execution_count": 114,
   "metadata": {},
   "outputs": [],
   "source": [
    "# load pickles\n",
    "news_sent_pkl = open(\"news_sent.pkl\", \"rb\")\n",
    "news = pickle.load(news_sent_pkl)\n",
    "\n",
    "news_pkl = open(\"news_sent_all.pkl\", \"rb\")\n",
    "news_df = pickle.load(news_pkl)"
   ]
  },
  {
   "cell_type": "code",
   "execution_count": 97,
   "metadata": {},
   "outputs": [],
   "source": [
    "# reformat news\n",
    "news[\"Date\"] = pd.to_datetime(news[\"Date\"])\n",
    "news = pd.DataFrame(news.groupby(\"Date\").mean())\n",
    "news.sort_values(by=\"Date\",inplace=True)"
   ]
  },
  {
   "cell_type": "code",
   "execution_count": 98,
   "metadata": {},
   "outputs": [],
   "source": [
    "news.reset_index(inplace=True)"
   ]
  },
  {
   "cell_type": "code",
   "execution_count": 115,
   "metadata": {
    "scrolled": false
   },
   "outputs": [
    {
     "data": {
      "text/html": [
       "<div>\n",
       "<style scoped>\n",
       "    .dataframe tbody tr th:only-of-type {\n",
       "        vertical-align: middle;\n",
       "    }\n",
       "\n",
       "    .dataframe tbody tr th {\n",
       "        vertical-align: top;\n",
       "    }\n",
       "\n",
       "    .dataframe thead th {\n",
       "        text-align: right;\n",
       "    }\n",
       "</style>\n",
       "<table border=\"1\" class=\"dataframe\">\n",
       "  <thead>\n",
       "    <tr style=\"text-align: right;\">\n",
       "      <th></th>\n",
       "      <th>Date</th>\n",
       "      <th>Headline</th>\n",
       "      <th>Headline_Sentiment</th>\n",
       "      <th>Abstract</th>\n",
       "      <th>Abstract_Sentiment</th>\n",
       "    </tr>\n",
       "  </thead>\n",
       "  <tbody>\n",
       "    <tr>\n",
       "      <th>0</th>\n",
       "      <td>2010-06-22</td>\n",
       "      <td>elon musk, paypal pioneer, is paper-rich, cash...</td>\n",
       "      <td>0.0000</td>\n",
       "      <td>elon musk, a serial entrepreneur who has made ...</td>\n",
       "      <td>-0.2960</td>\n",
       "    </tr>\n",
       "    <tr>\n",
       "      <th>1</th>\n",
       "      <td>2012-05-31</td>\n",
       "      <td>its first mission done, spacex looks to more p...</td>\n",
       "      <td>0.0000</td>\n",
       "      <td>the first commercial mission to ferry supplies...</td>\n",
       "      <td>0.4939</td>\n",
       "    </tr>\n",
       "    <tr>\n",
       "      <th>2</th>\n",
       "      <td>2012-06-25</td>\n",
       "      <td>tesla model s offers a lesson in electric-vehi...</td>\n",
       "      <td>0.0000</td>\n",
       "      <td>with three battery packs available, the newly ...</td>\n",
       "      <td>0.0000</td>\n",
       "    </tr>\n",
       "    <tr>\n",
       "      <th>3</th>\n",
       "      <td>2012-08-03</td>\n",
       "      <td>toyota and tesla trot out the rav4 ev</td>\n",
       "      <td>0.0000</td>\n",
       "      <td>the rav4 ev, a battery-powered crossover joint...</td>\n",
       "      <td>0.0000</td>\n",
       "    </tr>\n",
       "    <tr>\n",
       "      <th>4</th>\n",
       "      <td>2012-10-23</td>\n",
       "      <td>wheelies: the charged argument edition</td>\n",
       "      <td>-0.5106</td>\n",
       "      <td>elon musk defended tesla motors against allega...</td>\n",
       "      <td>0.3818</td>\n",
       "    </tr>\n",
       "  </tbody>\n",
       "</table>\n",
       "</div>"
      ],
      "text/plain": [
       "        Date                                           Headline  \\\n",
       "0 2010-06-22  elon musk, paypal pioneer, is paper-rich, cash...   \n",
       "1 2012-05-31  its first mission done, spacex looks to more p...   \n",
       "2 2012-06-25  tesla model s offers a lesson in electric-vehi...   \n",
       "3 2012-08-03              toyota and tesla trot out the rav4 ev   \n",
       "4 2012-10-23             wheelies: the charged argument edition   \n",
       "\n",
       "   Headline_Sentiment                                           Abstract  \\\n",
       "0              0.0000  elon musk, a serial entrepreneur who has made ...   \n",
       "1              0.0000  the first commercial mission to ferry supplies...   \n",
       "2              0.0000  with three battery packs available, the newly ...   \n",
       "3              0.0000  the rav4 ev, a battery-powered crossover joint...   \n",
       "4             -0.5106  elon musk defended tesla motors against allega...   \n",
       "\n",
       "   Abstract_Sentiment  \n",
       "0             -0.2960  \n",
       "1              0.4939  \n",
       "2              0.0000  \n",
       "3              0.0000  \n",
       "4              0.3818  "
      ]
     },
     "execution_count": 115,
     "metadata": {},
     "output_type": "execute_result"
    }
   ],
   "source": [
    "# reformat news_df date\n",
    "news_df[\"Date\"] = news_df[\"Date\"].dt.date\n",
    "news_df[\"Date\"] = pd.to_datetime(news_df[\"Date\"])\n",
    "news_df.head()"
   ]
  },
  {
   "cell_type": "code",
   "execution_count": 116,
   "metadata": {
    "scrolled": true
   },
   "outputs": [
    {
     "data": {
      "text/html": [
       "<div>\n",
       "<style scoped>\n",
       "    .dataframe tbody tr th:only-of-type {\n",
       "        vertical-align: middle;\n",
       "    }\n",
       "\n",
       "    .dataframe tbody tr th {\n",
       "        vertical-align: top;\n",
       "    }\n",
       "\n",
       "    .dataframe thead th {\n",
       "        text-align: right;\n",
       "    }\n",
       "</style>\n",
       "<table border=\"1\" class=\"dataframe\">\n",
       "  <thead>\n",
       "    <tr style=\"text-align: right;\">\n",
       "      <th></th>\n",
       "      <th>Date</th>\n",
       "      <th>Headline</th>\n",
       "      <th>Headline_Sentiment</th>\n",
       "      <th>Abstract</th>\n",
       "      <th>Abstract_Sentiment</th>\n",
       "    </tr>\n",
       "  </thead>\n",
       "  <tbody>\n",
       "    <tr>\n",
       "      <th>0</th>\n",
       "      <td>2010-06-22</td>\n",
       "      <td>elon musk, paypal pioneer, is paper-rich, cash...</td>\n",
       "      <td>0.0000</td>\n",
       "      <td>elon musk, a serial entrepreneur who has made ...</td>\n",
       "      <td>-0.2960</td>\n",
       "    </tr>\n",
       "    <tr>\n",
       "      <th>1</th>\n",
       "      <td>2012-05-31</td>\n",
       "      <td>its first mission done, spacex looks to more p...</td>\n",
       "      <td>0.0000</td>\n",
       "      <td>the first commercial mission to ferry supplies...</td>\n",
       "      <td>0.4939</td>\n",
       "    </tr>\n",
       "    <tr>\n",
       "      <th>2</th>\n",
       "      <td>2012-06-25</td>\n",
       "      <td>tesla model s offers a lesson in electric-vehi...</td>\n",
       "      <td>0.0000</td>\n",
       "      <td>with three battery packs available, the newly ...</td>\n",
       "      <td>0.0000</td>\n",
       "    </tr>\n",
       "    <tr>\n",
       "      <th>3</th>\n",
       "      <td>2012-08-03</td>\n",
       "      <td>toyota and tesla trot out the rav4 ev</td>\n",
       "      <td>0.0000</td>\n",
       "      <td>the rav4 ev, a battery-powered crossover joint...</td>\n",
       "      <td>0.0000</td>\n",
       "    </tr>\n",
       "    <tr>\n",
       "      <th>4</th>\n",
       "      <td>2012-10-23</td>\n",
       "      <td>wheelies: the charged argument edition</td>\n",
       "      <td>-0.5106</td>\n",
       "      <td>elon musk defended tesla motors against allega...</td>\n",
       "      <td>0.3818</td>\n",
       "    </tr>\n",
       "  </tbody>\n",
       "</table>\n",
       "</div>"
      ],
      "text/plain": [
       "        Date                                           Headline  \\\n",
       "0 2010-06-22  elon musk, paypal pioneer, is paper-rich, cash...   \n",
       "1 2012-05-31  its first mission done, spacex looks to more p...   \n",
       "2 2012-06-25  tesla model s offers a lesson in electric-vehi...   \n",
       "3 2012-08-03              toyota and tesla trot out the rav4 ev   \n",
       "4 2012-10-23             wheelies: the charged argument edition   \n",
       "\n",
       "   Headline_Sentiment                                           Abstract  \\\n",
       "0              0.0000  elon musk, a serial entrepreneur who has made ...   \n",
       "1              0.0000  the first commercial mission to ferry supplies...   \n",
       "2              0.0000  with three battery packs available, the newly ...   \n",
       "3              0.0000  the rav4 ev, a battery-powered crossover joint...   \n",
       "4             -0.5106  elon musk defended tesla motors against allega...   \n",
       "\n",
       "   Abstract_Sentiment  \n",
       "0             -0.2960  \n",
       "1              0.4939  \n",
       "2              0.0000  \n",
       "3              0.0000  \n",
       "4              0.3818  "
      ]
     },
     "execution_count": 116,
     "metadata": {},
     "output_type": "execute_result"
    }
   ],
   "source": [
    "news_df.sort_values(\"Date\",inplace=True)\n",
    "news_df.head()"
   ]
  },
  {
   "cell_type": "code",
   "execution_count": 192,
   "metadata": {},
   "outputs": [
    {
     "data": {
      "image/png": "[encoded data removed]",
      "text/plain": [
       "<Figure size 432x288 with 1 Axes>"
      ]
     },
     "metadata": {},
     "output_type": "display_data"
    }
   ],
   "source": [
    "x = news_df[\"Date\"]\n",
    "y1 = news_df[\"Headline_Sentiment\"] \n",
    "y2 = news_df[\"Abstract_Sentiment\"]\n",
    "\n",
    "sns.set()\n",
    "plt.title(\"News Headline and Abstract Sentiment\")\n",
    "plt.plot(x,y1,label=\"Headline Sentiment\", color=\"mediumpurple\")\n",
    "plt.plot(x,y2,label=\"Abstract Sentiment\", color=\"plum\")\n",
    "plt.legend(loc=\"lower left\");"
   ]
  },
  {
   "cell_type": "code",
   "execution_count": 126,
   "metadata": {},
   "outputs": [
    {
     "data": {
      "text/html": [
       "<div>\n",
       "<style scoped>\n",
       "    .dataframe tbody tr th:only-of-type {\n",
       "        vertical-align: middle;\n",
       "    }\n",
       "\n",
       "    .dataframe tbody tr th {\n",
       "        vertical-align: top;\n",
       "    }\n",
       "\n",
       "    .dataframe thead th {\n",
       "        text-align: right;\n",
       "    }\n",
       "</style>\n",
       "<table border=\"1\" class=\"dataframe\">\n",
       "  <thead>\n",
       "    <tr style=\"text-align: right;\">\n",
       "      <th></th>\n",
       "      <th>Headline_Sentiment</th>\n",
       "      <th>Abstract_Sentiment</th>\n",
       "    </tr>\n",
       "  </thead>\n",
       "  <tbody>\n",
       "    <tr>\n",
       "      <th>Headline_Sentiment</th>\n",
       "      <td>1.000000</td>\n",
       "      <td>0.067868</td>\n",
       "    </tr>\n",
       "    <tr>\n",
       "      <th>Abstract_Sentiment</th>\n",
       "      <td>0.067868</td>\n",
       "      <td>1.000000</td>\n",
       "    </tr>\n",
       "  </tbody>\n",
       "</table>\n",
       "</div>"
      ],
      "text/plain": [
       "                    Headline_Sentiment  Abstract_Sentiment\n",
       "Headline_Sentiment            1.000000            0.067868\n",
       "Abstract_Sentiment            0.067868            1.000000"
      ]
     },
     "execution_count": 126,
     "metadata": {},
     "output_type": "execute_result"
    }
   ],
   "source": [
    "news_df.corr()"
   ]
  },
  {
   "cell_type": "code",
   "execution_count": 130,
   "metadata": {},
   "outputs": [
    {
     "name": "stdout",
     "output_type": "stream",
     "text": [
      "<class 'pandas.core.frame.DataFrame'>\n",
      "Int64Index: 160 entries, 0 to 159\n",
      "Data columns (total 5 columns):\n",
      "Date                  160 non-null datetime64[ns]\n",
      "Headline              160 non-null object\n",
      "Headline_Sentiment    160 non-null float64\n",
      "Abstract              160 non-null object\n",
      "Abstract_Sentiment    160 non-null float64\n",
      "dtypes: datetime64[ns](1), float64(2), object(2)\n",
      "memory usage: 7.5+ KB\n"
     ]
    }
   ],
   "source": [
    "news_df.info()"
   ]
  },
  {
   "cell_type": "code",
   "execution_count": 132,
   "metadata": {},
   "outputs": [],
   "source": [
    "# get headlines with most sentiment value \n",
    "small_df = news_df[(news_df[\"Headline_Sentiment\"] !=0) & (news_df[\"Abstract_Sentiment\"] !=0)]"
   ]
  },
  {
   "cell_type": "code",
   "execution_count": 134,
   "metadata": {},
   "outputs": [
    {
     "data": {
      "text/plain": [
       "2016    8\n",
       "2018    6\n",
       "2015    6\n",
       "2017    5\n",
       "2014    4\n",
       "2013    4\n",
       "2012    4\n",
       "2019    1\n",
       "Name: Date, dtype: int64"
      ]
     },
     "execution_count": 134,
     "metadata": {},
     "output_type": "execute_result"
    }
   ],
   "source": [
    "small_df.Date.dt.year.value_counts()"
   ]
  },
  {
   "cell_type": "markdown",
   "metadata": {},
   "source": [
    "### Take sample size to compare with stocks"
   ]
  },
  {
   "cell_type": "code",
   "execution_count": 135,
   "metadata": {
    "scrolled": true
   },
   "outputs": [
    {
     "data": {
      "text/plain": [
       "2016    8\n",
       "2018    6\n",
       "2015    6\n",
       "2017    5\n",
       "2014    4\n",
       "2013    4\n",
       "2012    4\n",
       "2019    1\n",
       "Name: Date, dtype: int64"
      ]
     },
     "execution_count": 135,
     "metadata": {},
     "output_type": "execute_result"
    }
   ],
   "source": [
    "# find the year with the most data\n",
    "small_df.Date.dt.year.value_counts() # I'm going to use 2016 data"
   ]
  },
  {
   "cell_type": "code",
   "execution_count": 140,
   "metadata": {},
   "outputs": [],
   "source": [
    "# 2016 news \n",
    "small_df = small_df[small_df[\"Date\"].dt.year == 2016]"
   ]
  },
  {
   "cell_type": "code",
   "execution_count": 150,
   "metadata": {},
   "outputs": [
    {
     "data": {
      "text/html": [
       "<div>\n",
       "<style scoped>\n",
       "    .dataframe tbody tr th:only-of-type {\n",
       "        vertical-align: middle;\n",
       "    }\n",
       "\n",
       "    .dataframe tbody tr th {\n",
       "        vertical-align: top;\n",
       "    }\n",
       "\n",
       "    .dataframe thead th {\n",
       "        text-align: right;\n",
       "    }\n",
       "</style>\n",
       "<table border=\"1\" class=\"dataframe\">\n",
       "  <thead>\n",
       "    <tr style=\"text-align: right;\">\n",
       "      <th></th>\n",
       "      <th>Date</th>\n",
       "      <th>Headline</th>\n",
       "      <th>Headline_Sentiment</th>\n",
       "      <th>Abstract</th>\n",
       "      <th>Abstract_Sentiment</th>\n",
       "    </tr>\n",
       "  </thead>\n",
       "  <tbody>\n",
       "    <tr>\n",
       "      <th>99</th>\n",
       "      <td>2016-01-15</td>\n",
       "      <td>loose lips sink careers, even for c.e.o.s</td>\n",
       "      <td>-0.3182</td>\n",
       "      <td>business leaders have become social-media craz...</td>\n",
       "      <td>0.0772</td>\n",
       "    </tr>\n",
       "    <tr>\n",
       "      <th>103</th>\n",
       "      <td>2016-03-16</td>\n",
       "      <td>why vinyl records and other ‘old’ technologies...</td>\n",
       "      <td>-0.6486</td>\n",
       "      <td>we may be obsessed with new gadgets, but we st...</td>\n",
       "      <td>0.4404</td>\n",
       "    </tr>\n",
       "    <tr>\n",
       "      <th>115</th>\n",
       "      <td>2016-05-24</td>\n",
       "      <td>automakers befriend start-ups like uber, girdi...</td>\n",
       "      <td>0.3612</td>\n",
       "      <td>companies like toyota and volkswagen are suppo...</td>\n",
       "      <td>0.6597</td>\n",
       "    </tr>\n",
       "    <tr>\n",
       "      <th>116</th>\n",
       "      <td>2016-07-17</td>\n",
       "      <td>artificial intelligence swarms silicon valley ...</td>\n",
       "      <td>0.4767</td>\n",
       "      <td>the valley has found its next shiny new thing ...</td>\n",
       "      <td>0.5574</td>\n",
       "    </tr>\n",
       "    <tr>\n",
       "      <th>117</th>\n",
       "      <td>2016-07-21</td>\n",
       "      <td>water out of the tailpipe: a new class of elec...</td>\n",
       "      <td>0.3400</td>\n",
       "      <td>in california, state subsidies for hydrogen fi...</td>\n",
       "      <td>0.5267</td>\n",
       "    </tr>\n",
       "    <tr>\n",
       "      <th>118</th>\n",
       "      <td>2016-08-03</td>\n",
       "      <td>tesla’s big loss reflects its costly ambitions</td>\n",
       "      <td>-0.4019</td>\n",
       "      <td>the electric carmaker’s second-quarter loss gr...</td>\n",
       "      <td>0.8555</td>\n",
       "    </tr>\n",
       "    <tr>\n",
       "      <th>121</th>\n",
       "      <td>2016-10-27</td>\n",
       "      <td>measure in florida that claims to back solar p...</td>\n",
       "      <td>-0.4215</td>\n",
       "      <td>opponents of the proposed constitutional amend...</td>\n",
       "      <td>-0.5563</td>\n",
       "    </tr>\n",
       "    <tr>\n",
       "      <th>124</th>\n",
       "      <td>2016-12-05</td>\n",
       "      <td>how entrepreneurs can make peace with undivers...</td>\n",
       "      <td>0.5423</td>\n",
       "      <td>knowing there’s a return on investment that do...</td>\n",
       "      <td>0.7430</td>\n",
       "    </tr>\n",
       "  </tbody>\n",
       "</table>\n",
       "</div>"
      ],
      "text/plain": [
       "          Date                                           Headline  \\\n",
       "99  2016-01-15          loose lips sink careers, even for c.e.o.s   \n",
       "103 2016-03-16  why vinyl records and other ‘old’ technologies...   \n",
       "115 2016-05-24  automakers befriend start-ups like uber, girdi...   \n",
       "116 2016-07-17  artificial intelligence swarms silicon valley ...   \n",
       "117 2016-07-21  water out of the tailpipe: a new class of elec...   \n",
       "118 2016-08-03     tesla’s big loss reflects its costly ambitions   \n",
       "121 2016-10-27  measure in florida that claims to back solar p...   \n",
       "124 2016-12-05  how entrepreneurs can make peace with undivers...   \n",
       "\n",
       "     Headline_Sentiment                                           Abstract  \\\n",
       "99              -0.3182  business leaders have become social-media craz...   \n",
       "103             -0.6486  we may be obsessed with new gadgets, but we st...   \n",
       "115              0.3612  companies like toyota and volkswagen are suppo...   \n",
       "116              0.4767  the valley has found its next shiny new thing ...   \n",
       "117              0.3400  in california, state subsidies for hydrogen fi...   \n",
       "118             -0.4019  the electric carmaker’s second-quarter loss gr...   \n",
       "121             -0.4215  opponents of the proposed constitutional amend...   \n",
       "124              0.5423  knowing there’s a return on investment that do...   \n",
       "\n",
       "     Abstract_Sentiment  \n",
       "99               0.0772  \n",
       "103              0.4404  \n",
       "115              0.6597  \n",
       "116              0.5574  \n",
       "117              0.5267  \n",
       "118              0.8555  \n",
       "121             -0.5563  \n",
       "124              0.7430  "
      ]
     },
     "execution_count": 150,
     "metadata": {},
     "output_type": "execute_result"
    }
   ],
   "source": [
    "small_df"
   ]
  },
  {
   "cell_type": "code",
   "execution_count": 148,
   "metadata": {},
   "outputs": [],
   "source": [
    "small_stocks = stocks[stocks[\"Date\"].dt.year == 2016]"
   ]
  },
  {
   "cell_type": "code",
   "execution_count": 173,
   "metadata": {},
   "outputs": [],
   "source": [
    "small_df = small_df.merge(stocks,how=\"outer\").dropna(subset=[\"Headline\"]).fillna(method=\"ffill\")"
   ]
  },
  {
   "cell_type": "code",
   "execution_count": 178,
   "metadata": {},
   "outputs": [],
   "source": [
    "small_df = small_df.groupby(\"Date\").mean().reset_index()"
   ]
  },
  {
   "cell_type": "code",
   "execution_count": 181,
   "metadata": {},
   "outputs": [
    {
     "data": {
      "text/html": [
       "<div>\n",
       "<style scoped>\n",
       "    .dataframe tbody tr th:only-of-type {\n",
       "        vertical-align: middle;\n",
       "    }\n",
       "\n",
       "    .dataframe tbody tr th {\n",
       "        vertical-align: top;\n",
       "    }\n",
       "\n",
       "    .dataframe thead th {\n",
       "        text-align: right;\n",
       "    }\n",
       "</style>\n",
       "<table border=\"1\" class=\"dataframe\">\n",
       "  <thead>\n",
       "    <tr style=\"text-align: right;\">\n",
       "      <th></th>\n",
       "      <th>Date</th>\n",
       "      <th>Headline_Sentiment</th>\n",
       "      <th>Abstract_Sentiment</th>\n",
       "      <th>Open</th>\n",
       "      <th>High</th>\n",
       "      <th>Low</th>\n",
       "      <th>Volume</th>\n",
       "      <th>Adj Close</th>\n",
       "    </tr>\n",
       "  </thead>\n",
       "  <tbody>\n",
       "    <tr>\n",
       "      <th>0</th>\n",
       "      <td>2016-01-15</td>\n",
       "      <td>-0.3182</td>\n",
       "      <td>0.0772</td>\n",
       "      <td>198.970000</td>\n",
       "      <td>205.070003</td>\n",
       "      <td>197.250000</td>\n",
       "      <td>4786642.5</td>\n",
       "      <td>204.990003</td>\n",
       "    </tr>\n",
       "    <tr>\n",
       "      <th>1</th>\n",
       "      <td>2016-03-16</td>\n",
       "      <td>-0.6486</td>\n",
       "      <td>0.4404</td>\n",
       "      <td>218.000000</td>\n",
       "      <td>222.580001</td>\n",
       "      <td>217.020002</td>\n",
       "      <td>3516701.5</td>\n",
       "      <td>221.929997</td>\n",
       "    </tr>\n",
       "    <tr>\n",
       "      <th>2</th>\n",
       "      <td>2016-05-24</td>\n",
       "      <td>0.3612</td>\n",
       "      <td>0.6597</td>\n",
       "      <td>216.600003</td>\n",
       "      <td>218.740003</td>\n",
       "      <td>215.179997</td>\n",
       "      <td>2971229.5</td>\n",
       "      <td>217.910002</td>\n",
       "    </tr>\n",
       "    <tr>\n",
       "      <th>3</th>\n",
       "      <td>2016-07-17</td>\n",
       "      <td>0.4767</td>\n",
       "      <td>0.5574</td>\n",
       "      <td>216.600000</td>\n",
       "      <td>218.740000</td>\n",
       "      <td>215.180000</td>\n",
       "      <td>2928659.0</td>\n",
       "      <td>217.910000</td>\n",
       "    </tr>\n",
       "    <tr>\n",
       "      <th>4</th>\n",
       "      <td>2016-07-21</td>\n",
       "      <td>0.3400</td>\n",
       "      <td>0.5267</td>\n",
       "      <td>226.000000</td>\n",
       "      <td>227.848503</td>\n",
       "      <td>219.100003</td>\n",
       "      <td>4090925.0</td>\n",
       "      <td>220.500000</td>\n",
       "    </tr>\n",
       "  </tbody>\n",
       "</table>\n",
       "</div>"
      ],
      "text/plain": [
       "        Date  Headline_Sentiment  Abstract_Sentiment        Open        High  \\\n",
       "0 2016-01-15             -0.3182              0.0772  198.970000  205.070003   \n",
       "1 2016-03-16             -0.6486              0.4404  218.000000  222.580001   \n",
       "2 2016-05-24              0.3612              0.6597  216.600003  218.740003   \n",
       "3 2016-07-17              0.4767              0.5574  216.600000  218.740000   \n",
       "4 2016-07-21              0.3400              0.5267  226.000000  227.848503   \n",
       "\n",
       "          Low     Volume   Adj Close  \n",
       "0  197.250000  4786642.5  204.990003  \n",
       "1  217.020002  3516701.5  221.929997  \n",
       "2  215.179997  2971229.5  217.910002  \n",
       "3  215.180000  2928659.0  217.910000  \n",
       "4  219.100003  4090925.0  220.500000  "
      ]
     },
     "execution_count": 181,
     "metadata": {},
     "output_type": "execute_result"
    }
   ],
   "source": [
    "small_df.head()"
   ]
  },
  {
   "cell_type": "code",
   "execution_count": 182,
   "metadata": {},
   "outputs": [
    {
     "data": {
      "text/html": [
       "<div>\n",
       "<style scoped>\n",
       "    .dataframe tbody tr th:only-of-type {\n",
       "        vertical-align: middle;\n",
       "    }\n",
       "\n",
       "    .dataframe tbody tr th {\n",
       "        vertical-align: top;\n",
       "    }\n",
       "\n",
       "    .dataframe thead th {\n",
       "        text-align: right;\n",
       "    }\n",
       "</style>\n",
       "<table border=\"1\" class=\"dataframe\">\n",
       "  <thead>\n",
       "    <tr style=\"text-align: right;\">\n",
       "      <th></th>\n",
       "      <th>Date</th>\n",
       "      <th>Headline_Sentiment</th>\n",
       "      <th>Abstract_Sentiment</th>\n",
       "      <th>Value</th>\n",
       "    </tr>\n",
       "  </thead>\n",
       "  <tbody>\n",
       "    <tr>\n",
       "      <th>0</th>\n",
       "      <td>2016-01-15</td>\n",
       "      <td>-0.3182</td>\n",
       "      <td>0.0772</td>\n",
       "      <td>652.537505</td>\n",
       "    </tr>\n",
       "    <tr>\n",
       "      <th>1</th>\n",
       "      <td>2016-03-16</td>\n",
       "      <td>-0.6486</td>\n",
       "      <td>0.4404</td>\n",
       "      <td>713.082502</td>\n",
       "    </tr>\n",
       "    <tr>\n",
       "      <th>2</th>\n",
       "      <td>2016-05-24</td>\n",
       "      <td>0.3612</td>\n",
       "      <td>0.6597</td>\n",
       "      <td>704.997502</td>\n",
       "    </tr>\n",
       "    <tr>\n",
       "      <th>3</th>\n",
       "      <td>2016-07-17</td>\n",
       "      <td>0.4767</td>\n",
       "      <td>0.5574</td>\n",
       "      <td>704.997500</td>\n",
       "    </tr>\n",
       "    <tr>\n",
       "      <th>4</th>\n",
       "      <td>2016-07-21</td>\n",
       "      <td>0.3400</td>\n",
       "      <td>0.5267</td>\n",
       "      <td>728.073506</td>\n",
       "    </tr>\n",
       "  </tbody>\n",
       "</table>\n",
       "</div>"
      ],
      "text/plain": [
       "        Date  Headline_Sentiment  Abstract_Sentiment       Value\n",
       "0 2016-01-15             -0.3182              0.0772  652.537505\n",
       "1 2016-03-16             -0.6486              0.4404  713.082502\n",
       "2 2016-05-24              0.3612              0.6597  704.997502\n",
       "3 2016-07-17              0.4767              0.5574  704.997500\n",
       "4 2016-07-21              0.3400              0.5267  728.073506"
      ]
     },
     "execution_count": 182,
     "metadata": {},
     "output_type": "execute_result"
    }
   ],
   "source": [
    "# make average value \n",
    "small_df[\"Value\"] = (small_df[\"Open\"]+small_df[\"High\"]+small_df[\"Low\"]+small_df[\"Adj Close\"]/4)\n",
    "small_df.drop(columns=[\"Open\", \"High\", \"Low\", \"Volume\", \"Adj Close\"],inplace=True)\n",
    "small_df.head()"
   ]
  },
  {
   "cell_type": "code",
   "execution_count": 183,
   "metadata": {},
   "outputs": [
    {
     "data": {
      "text/html": [
       "<div>\n",
       "<style scoped>\n",
       "    .dataframe tbody tr th:only-of-type {\n",
       "        vertical-align: middle;\n",
       "    }\n",
       "\n",
       "    .dataframe tbody tr th {\n",
       "        vertical-align: top;\n",
       "    }\n",
       "\n",
       "    .dataframe thead th {\n",
       "        text-align: right;\n",
       "    }\n",
       "</style>\n",
       "<table border=\"1\" class=\"dataframe\">\n",
       "  <thead>\n",
       "    <tr style=\"text-align: right;\">\n",
       "      <th></th>\n",
       "      <th>Date</th>\n",
       "      <th>Headline_Sentiment</th>\n",
       "      <th>Abstract_Sentiment</th>\n",
       "      <th>Stock_Value</th>\n",
       "    </tr>\n",
       "  </thead>\n",
       "  <tbody>\n",
       "    <tr>\n",
       "      <th>0</th>\n",
       "      <td>2016-01-15</td>\n",
       "      <td>-0.3182</td>\n",
       "      <td>0.0772</td>\n",
       "      <td>652.537505</td>\n",
       "    </tr>\n",
       "    <tr>\n",
       "      <th>1</th>\n",
       "      <td>2016-03-16</td>\n",
       "      <td>-0.6486</td>\n",
       "      <td>0.4404</td>\n",
       "      <td>713.082502</td>\n",
       "    </tr>\n",
       "    <tr>\n",
       "      <th>2</th>\n",
       "      <td>2016-05-24</td>\n",
       "      <td>0.3612</td>\n",
       "      <td>0.6597</td>\n",
       "      <td>704.997502</td>\n",
       "    </tr>\n",
       "    <tr>\n",
       "      <th>3</th>\n",
       "      <td>2016-07-17</td>\n",
       "      <td>0.4767</td>\n",
       "      <td>0.5574</td>\n",
       "      <td>704.997500</td>\n",
       "    </tr>\n",
       "    <tr>\n",
       "      <th>4</th>\n",
       "      <td>2016-07-21</td>\n",
       "      <td>0.3400</td>\n",
       "      <td>0.5267</td>\n",
       "      <td>728.073506</td>\n",
       "    </tr>\n",
       "    <tr>\n",
       "      <th>5</th>\n",
       "      <td>2016-08-03</td>\n",
       "      <td>-0.4019</td>\n",
       "      <td>0.8555</td>\n",
       "      <td>737.700749</td>\n",
       "    </tr>\n",
       "    <tr>\n",
       "      <th>6</th>\n",
       "      <td>2016-10-27</td>\n",
       "      <td>-0.4215</td>\n",
       "      <td>-0.5563</td>\n",
       "      <td>677.692493</td>\n",
       "    </tr>\n",
       "    <tr>\n",
       "      <th>7</th>\n",
       "      <td>2016-12-05</td>\n",
       "      <td>0.5423</td>\n",
       "      <td>0.7430</td>\n",
       "      <td>600.609995</td>\n",
       "    </tr>\n",
       "  </tbody>\n",
       "</table>\n",
       "</div>"
      ],
      "text/plain": [
       "        Date  Headline_Sentiment  Abstract_Sentiment  Stock_Value\n",
       "0 2016-01-15             -0.3182              0.0772   652.537505\n",
       "1 2016-03-16             -0.6486              0.4404   713.082502\n",
       "2 2016-05-24              0.3612              0.6597   704.997502\n",
       "3 2016-07-17              0.4767              0.5574   704.997500\n",
       "4 2016-07-21              0.3400              0.5267   728.073506\n",
       "5 2016-08-03             -0.4019              0.8555   737.700749\n",
       "6 2016-10-27             -0.4215             -0.5563   677.692493\n",
       "7 2016-12-05              0.5423              0.7430   600.609995"
      ]
     },
     "execution_count": 183,
     "metadata": {},
     "output_type": "execute_result"
    }
   ],
   "source": [
    "small_df.rename(columns={\"Value\":\"Stock_Value\"})"
   ]
  },
  {
   "cell_type": "code",
   "execution_count": 185,
   "metadata": {},
   "outputs": [],
   "source": [
    "small_df.to_csv(r'/Users/biancapery/Desktop/Stock_Sentiment_Analysis/Notebooks/news_stock.csv')"
   ]
  },
  {
   "cell_type": "code",
   "execution_count": null,
   "metadata": {},
   "outputs": [],
   "source": []
  }
 ],
 "metadata": {
  "kernelspec": {
   "display_name": "Python 3",
   "language": "python",
   "name": "python3"
  },
  "language_info": {
   "codemirror_mode": {
    "name": "ipython",
    "version": 3
   },
   "file_extension": ".py",
   "mimetype": "text/x-python",
   "name": "python",
   "nbconvert_exporter": "python",
   "pygments_lexer": "ipython3",
   "version": "3.7.2"
  }
 },
 "nbformat": 4,
 "nbformat_minor": 2
}
